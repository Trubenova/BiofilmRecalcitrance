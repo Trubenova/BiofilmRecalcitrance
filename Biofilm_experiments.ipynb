{
 "cells": [
  {
   "cell_type": "markdown",
   "metadata": {},
   "source": [
    "# This file will contain simulations of various experiments\n"
   ]
  },
  {
   "cell_type": "markdown",
   "metadata": {},
   "source": [
    "## Introduction\n",
    "\n",
    "Here, we will"
   ]
  },
  {
   "cell_type": "code",
   "execution_count": 2,
   "metadata": {},
   "outputs": [],
   "source": [
    "import sys\n",
    "import os\n",
    "import time\n",
    "import numpy as np\n",
    "import matplotlib.pyplot as plt\n",
    "from scipy.integrate import odeint\n",
    "import itertools\n",
    "import biofilm_functions as bio"
   ]
  },
  {
   "cell_type": "markdown",
   "metadata": {},
   "source": [
    "## Experiment 0\n",
    "\n",
    "This is to test the functions. \n"
   ]
  },
  {
   "cell_type": "code",
   "execution_count": 3,
   "metadata": {},
   "outputs": [
    {
     "ename": "NameError",
     "evalue": "name 'Bacterial_population' is not defined",
     "output_type": "error",
     "traceback": [
      "\u001b[0;31m---------------------------------------------------------------------------\u001b[0m",
      "\u001b[0;31mNameError\u001b[0m                                 Traceback (most recent call last)",
      "\u001b[0;32m<ipython-input-3-3aee6e6d2081>\u001b[0m in \u001b[0;36m<module>\u001b[0;34m\u001b[0m\n\u001b[1;32m     73\u001b[0m \u001b[0;34m\u001b[0m\u001b[0m\n\u001b[1;32m     74\u001b[0m \u001b[0;34m\u001b[0m\u001b[0m\n\u001b[0;32m---> 75\u001b[0;31m \u001b[0mtest\u001b[0m\u001b[0;34m=\u001b[0m\u001b[0mrun_experiment_0\u001b[0m\u001b[0;34m(\u001b[0m\u001b[0mname\u001b[0m\u001b[0;34m=\u001b[0m\u001b[0;34m'test'\u001b[0m\u001b[0;34m)\u001b[0m\u001b[0;34m\u001b[0m\u001b[0;34m\u001b[0m\u001b[0m\n\u001b[0m",
      "\u001b[0;32m<ipython-input-3-3aee6e6d2081>\u001b[0m in \u001b[0;36mrun_experiment_0\u001b[0;34m(name)\u001b[0m\n\u001b[1;32m     39\u001b[0m     \u001b[0minit_pop\u001b[0m\u001b[0;34m[\u001b[0m\u001b[0;36m0\u001b[0m\u001b[0;34m]\u001b[0m\u001b[0;34m=\u001b[0m\u001b[0;36m100\u001b[0m  \u001b[0;31m#\u001b[0m\u001b[0;34m\u001b[0m\u001b[0;34m\u001b[0m\u001b[0m\n\u001b[1;32m     40\u001b[0m     \u001b[0minit_pop\u001b[0m\u001b[0;34m[\u001b[0m\u001b[0;36m1\u001b[0m\u001b[0;34m]\u001b[0m\u001b[0;34m=\u001b[0m\u001b[0;36m100\u001b[0m  \u001b[0;31m#\u001b[0m\u001b[0;34m\u001b[0m\u001b[0;34m\u001b[0m\u001b[0m\n\u001b[0;32m---> 41\u001b[0;31m     \u001b[0mmy_pla_population\u001b[0m\u001b[0;34m=\u001b[0m\u001b[0mBacterial_population\u001b[0m\u001b[0;34m(\u001b[0m\u001b[0minit_pop\u001b[0m\u001b[0;34m,\u001b[0m\u001b[0mloci\u001b[0m\u001b[0;34m=\u001b[0m\u001b[0mloci\u001b[0m\u001b[0;34m,\u001b[0m\u001b[0mpsi_max_s\u001b[0m\u001b[0;34m=\u001b[0m\u001b[0mpsi_max_s\u001b[0m\u001b[0;34m,\u001b[0m \u001b[0mpsi_min\u001b[0m\u001b[0;34m=\u001b[0m\u001b[0mpsi_min\u001b[0m\u001b[0;34m,\u001b[0m \u001b[0mgamma\u001b[0m\u001b[0;34m=\u001b[0m\u001b[0mgamma\u001b[0m\u001b[0;34m,\u001b[0m \u001b[0mMIC\u001b[0m \u001b[0;34m=\u001b[0m \u001b[0mMIC\u001b[0m\u001b[0;34m,\u001b[0m \u001b[0mcost_vector\u001b[0m\u001b[0;34m=\u001b[0m\u001b[0mcost_vector\u001b[0m\u001b[0;34m,\u001b[0m\u001b[0mbenefit_vector\u001b[0m\u001b[0;34m=\u001b[0m\u001b[0mbenefit_vector\u001b[0m\u001b[0;34m,\u001b[0m \u001b[0mmutation_rate\u001b[0m\u001b[0;34m=\u001b[0m\u001b[0mmutation_rate\u001b[0m\u001b[0;34m,\u001b[0m \u001b[0mliving_style\u001b[0m\u001b[0;34m=\u001b[0m\u001b[0mliving_style\u001b[0m\u001b[0;34m,\u001b[0m \u001b[0mbiofilm_benefit\u001b[0m\u001b[0;34m=\u001b[0m\u001b[0mbiofilm_benefit\u001b[0m\u001b[0;34m,\u001b[0m \u001b[0mbiofilm_cost\u001b[0m\u001b[0;34m=\u001b[0m\u001b[0mbiofilm_cost\u001b[0m\u001b[0;34m,\u001b[0m \u001b[0mrelease_rate\u001b[0m\u001b[0;34m=\u001b[0m\u001b[0mrelease_rate\u001b[0m\u001b[0;34m,\u001b[0m \u001b[0madhesion_rate\u001b[0m\u001b[0;34m=\u001b[0m\u001b[0madhesion_rate\u001b[0m\u001b[0;34m)\u001b[0m\u001b[0;34m\u001b[0m\u001b[0;34m\u001b[0m\u001b[0m\n\u001b[0m\u001b[1;32m     42\u001b[0m     \u001b[0mmy_pla_population2\u001b[0m\u001b[0;34m=\u001b[0m\u001b[0mBacterial_population\u001b[0m\u001b[0;34m(\u001b[0m\u001b[0minit_pop\u001b[0m\u001b[0;34m,\u001b[0m\u001b[0mloci\u001b[0m\u001b[0;34m=\u001b[0m\u001b[0mloci\u001b[0m\u001b[0;34m,\u001b[0m\u001b[0mpsi_max_s\u001b[0m\u001b[0;34m=\u001b[0m\u001b[0mpsi_max_s\u001b[0m\u001b[0;34m,\u001b[0m \u001b[0mpsi_min\u001b[0m\u001b[0;34m=\u001b[0m\u001b[0mpsi_min\u001b[0m\u001b[0;34m,\u001b[0m \u001b[0mgamma\u001b[0m\u001b[0;34m=\u001b[0m\u001b[0mgamma\u001b[0m\u001b[0;34m,\u001b[0m \u001b[0mMIC\u001b[0m \u001b[0;34m=\u001b[0m \u001b[0mMIC\u001b[0m\u001b[0;34m,\u001b[0m \u001b[0mcost_vector\u001b[0m\u001b[0;34m=\u001b[0m\u001b[0mcost_vector\u001b[0m\u001b[0;34m,\u001b[0m\u001b[0mbenefit_vector\u001b[0m\u001b[0;34m=\u001b[0m\u001b[0mbenefit_vector\u001b[0m\u001b[0;34m,\u001b[0m \u001b[0mmutation_rate\u001b[0m\u001b[0;34m=\u001b[0m\u001b[0mmutation_rate\u001b[0m\u001b[0;34m,\u001b[0m \u001b[0mliving_style\u001b[0m\u001b[0;34m=\u001b[0m\u001b[0mliving_style\u001b[0m\u001b[0;34m,\u001b[0m \u001b[0mbiofilm_benefit\u001b[0m\u001b[0;34m=\u001b[0m\u001b[0mbiofilm_benefit\u001b[0m\u001b[0;34m,\u001b[0m \u001b[0mbiofilm_cost\u001b[0m\u001b[0;34m=\u001b[0m\u001b[0mbiofilm_cost\u001b[0m\u001b[0;34m,\u001b[0m \u001b[0mrelease_rate\u001b[0m\u001b[0;34m=\u001b[0m\u001b[0mrelease_rate\u001b[0m\u001b[0;34m,\u001b[0m \u001b[0madhesion_rate\u001b[0m\u001b[0;34m=\u001b[0m\u001b[0madhesion_rate\u001b[0m\u001b[0;34m)\u001b[0m\u001b[0;34m\u001b[0m\u001b[0;34m\u001b[0m\u001b[0m\n\u001b[1;32m     43\u001b[0m     \u001b[0mprint\u001b[0m \u001b[0;34m(\u001b[0m\u001b[0;34m'plankton:'\u001b[0m\u001b[0;34m,\u001b[0m \u001b[0mmy_pla_population\u001b[0m\u001b[0;34m.\u001b[0m\u001b[0mz_mic\u001b[0m\u001b[0;34m)\u001b[0m\u001b[0;34m\u001b[0m\u001b[0;34m\u001b[0m\u001b[0m\n",
      "\u001b[0;31mNameError\u001b[0m: name 'Bacterial_population' is not defined"
     ]
    }
   ],
   "source": [
    "def run_experiment_0(name='experiment'):\n",
    "    \n",
    "\n",
    "    ####### GENERAL PROPERTIES OF THE POPULATION ########\n",
    "    loci=3\n",
    "    mutation_rate=0.0000010\n",
    "    cost_vector=[0.5,0.2,0.2]   #loc_costs = 0 * c_c * np.random.rand(k) + c_c\n",
    "    benefit_vector=[2,3,4]  \n",
    "    biofilm_benefit=5\n",
    "    biofilm_cost=0.01\n",
    "    psi_max_s=0.0231 \n",
    "    psi_min=-0.0833\n",
    "    gamma=0.00007\n",
    "    release_rate=0#0.1\n",
    "    adhesion_rate=0#0.1##0.00000001\n",
    "\n",
    "    MIC = 1.0\n",
    "    ##############################\n",
    "\n",
    "    init_pop=np.zeros(2**loci)\n",
    "    car_cap=10**9\n",
    "    \n",
    "    ######### PROPERTIES OF THE EXPERIMENT, INCLUDING THE DRUG PARAMETERS #######\n",
    "    #### non of this matters for the red and green experiement?\n",
    "    kappa=1.5\n",
    "    cycle_length = 24 * 60  # length of a cycle in minutes\n",
    "    init_conc = 0.0 * MIC  # intitial antibiotic concentration\n",
    "    \n",
    "    degradation_rate=0#-0.000004\n",
    "    concentration_gradient=[0,2,3,5,8,10]\n",
    "    cycle_number=len(concentration_gradient)\n",
    "    \n",
    "    \n",
    "    ########## SPECIFICS OF THIS EXPERIMENT #####################################\n",
    "    ############ Starting population initialization  ###############\n",
    "\n",
    "    living_style=0\n",
    "    init_pop=np.zeros(2**loci)\n",
    "    init_pop[0]=100  #\n",
    "    init_pop[1]=100  #\n",
    "    my_pla_population=Bacterial_population(init_pop,loci=loci,psi_max_s=psi_max_s, psi_min=psi_min, gamma=gamma, MIC = MIC, cost_vector=cost_vector,benefit_vector=benefit_vector, mutation_rate=mutation_rate, living_style=living_style, biofilm_benefit=biofilm_benefit, biofilm_cost=biofilm_cost, release_rate=release_rate, adhesion_rate=adhesion_rate)\n",
    "    my_pla_population2=Bacterial_population(init_pop,loci=loci,psi_max_s=psi_max_s, psi_min=psi_min, gamma=gamma, MIC = MIC, cost_vector=cost_vector,benefit_vector=benefit_vector, mutation_rate=mutation_rate, living_style=living_style, biofilm_benefit=biofilm_benefit, biofilm_cost=biofilm_cost, release_rate=release_rate, adhesion_rate=adhesion_rate)\n",
    "    print ('plankton:', my_pla_population.z_mic)\n",
    "    # Define Biofilm population - it is empty\n",
    "\n",
    "    living_style=1\n",
    "    init_pop=np.zeros(2**loci)\n",
    "    init_pop[0]=100\n",
    "    init_pop[1]=100\n",
    "    my_bio_population=Bacterial_population(init_pop,loci=loci,psi_max_s=psi_max_s, psi_min=psi_min, gamma=gamma, MIC = MIC, cost_vector=cost_vector,benefit_vector=benefit_vector, mutation_rate=mutation_rate, living_style=living_style, biofilm_benefit=biofilm_benefit, biofilm_cost=biofilm_cost, release_rate=release_rate, adhesion_rate=adhesion_rate)\n",
    "    my_bio_population2=Bacterial_population(init_pop,loci=loci,psi_max_s=psi_max_s, psi_min=psi_min, gamma=gamma, MIC = MIC, cost_vector=cost_vector,benefit_vector=benefit_vector, mutation_rate=mutation_rate, living_style=living_style, biofilm_benefit=biofilm_benefit, biofilm_cost=biofilm_cost, release_rate=release_rate, adhesion_rate=adhesion_rate)\n",
    "    print ('biofilm:', my_bio_population.z_mic)\n",
    "    #Run this \n",
    "    \n",
    "    my_treatment=Treatment(concentration_gradient, cycle_length=cycle_length , cycle_number=cycle_number, car_cap=car_cap,kappa=kappa, degradation_rate=degradation_rate)\n",
    "    my_treatment2=Treatment(concentration_gradient, cycle_length=cycle_length , cycle_number=cycle_number, car_cap=car_cap,kappa=kappa, degradation_rate=degradation_rate)\n",
    "    my_treatment.run_stochastic_simulation(my_pla_population, my_bio_population)\n",
    "    my_treatment.plot_results() \n",
    "    \n",
    "    #plt.semilogy(my_treatment.pla_population_record)\n",
    "    #plt.title('plankton')\n",
    "    #plt.show()\n",
    "    #plt.semilogy(my_treatment.bio_population_record, ':')\n",
    "    #plt.title('biofilm')\n",
    "    #plt.legend(['pla g', 'pla r', 'bio g', 'bio r'])\n",
    "    #plt.show()\n",
    "    \n",
    "    my_treatment2.run_deterministic_simulation(my_pla_population2, my_bio_population2)\n",
    "    my_treatment2.plot_results() \n",
    "    #np.save(name,complete_dynamics)\n",
    "    \n",
    "    return (my_treatment.final_populations)\n",
    "\n",
    "\n",
    "test=run_experiment_0(name='test')"
   ]
  },
  {
   "cell_type": "markdown",
   "metadata": {},
   "source": [
    "## Experiment SlowDown Evolution\n",
    "Here I will run an experiment for combination of factors showing that evolution is slowed down."
   ]
  },
  {
   "cell_type": "code",
   "execution_count": null,
   "metadata": {},
   "outputs": [],
   "source": []
  }
 ],
 "metadata": {
  "kernelspec": {
   "display_name": "Python 3",
   "language": "python",
   "name": "python3"
  },
  "language_info": {
   "codemirror_mode": {
    "name": "ipython",
    "version": 3
   },
   "file_extension": ".py",
   "mimetype": "text/x-python",
   "name": "python",
   "nbconvert_exporter": "python",
   "pygments_lexer": "ipython3",
   "version": "3.8.3"
  }
 },
 "nbformat": 4,
 "nbformat_minor": 4
}
